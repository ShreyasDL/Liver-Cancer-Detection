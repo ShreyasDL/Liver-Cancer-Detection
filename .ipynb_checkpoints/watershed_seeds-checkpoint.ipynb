{
 "cells": [
  {
   "cell_type": "code",
   "execution_count": 50,
   "metadata": {},
   "outputs": [],
   "source": [
    "import cv2\n",
    "import numpy as np\n",
    "import matplotlib.pyplot as plt\n",
    "%matplotlib inline"
   ]
  },
  {
   "cell_type": "code",
   "execution_count": 51,
   "metadata": {},
   "outputs": [],
   "source": [
    "road = cv2.imread('JPEG/road_image.jpg')"
   ]
  },
  {
   "cell_type": "code",
   "execution_count": 52,
   "metadata": {},
   "outputs": [],
   "source": [
    "road_copy = road.copy()"
   ]
  },
  {
   "cell_type": "code",
   "execution_count": 53,
   "metadata": {},
   "outputs": [],
   "source": [
    "# plt.imshow(road)"
   ]
  },
  {
   "cell_type": "code",
   "execution_count": 54,
   "metadata": {},
   "outputs": [
    {
     "data": {
      "text/plain": [
       "(600, 800)"
      ]
     },
     "execution_count": 54,
     "metadata": {},
     "output_type": "execute_result"
    }
   ],
   "source": [
    "road.shape[:2]"
   ]
  },
  {
   "cell_type": "code",
   "execution_count": 55,
   "metadata": {},
   "outputs": [],
   "source": [
    "marker_image = np.zeros(road.shape[:2],dtype = np.int32)"
   ]
  },
  {
   "cell_type": "code",
   "execution_count": 56,
   "metadata": {},
   "outputs": [],
   "source": [
    "segments = np.zeros(road.shape,dtype = np.uint8)"
   ]
  },
  {
   "cell_type": "code",
   "execution_count": 57,
   "metadata": {},
   "outputs": [
    {
     "data": {
      "text/plain": [
       "(600, 800)"
      ]
     },
     "execution_count": 57,
     "metadata": {},
     "output_type": "execute_result"
    }
   ],
   "source": [
    "marker_image.shape"
   ]
  },
  {
   "cell_type": "code",
   "execution_count": 58,
   "metadata": {},
   "outputs": [
    {
     "data": {
      "text/plain": [
       "(600, 800, 3)"
      ]
     },
     "execution_count": 58,
     "metadata": {},
     "output_type": "execute_result"
    }
   ],
   "source": [
    "segments.shape"
   ]
  },
  {
   "cell_type": "code",
   "execution_count": 59,
   "metadata": {},
   "outputs": [],
   "source": [
    "from matplotlib import cm"
   ]
  },
  {
   "cell_type": "code",
   "execution_count": 60,
   "metadata": {},
   "outputs": [],
   "source": [
    "def create_rgb(i):\n",
    "    return tuple(np.array(cm.tab10(i)[:3])*255)"
   ]
  },
  {
   "cell_type": "code",
   "execution_count": 61,
   "metadata": {},
   "outputs": [],
   "source": [
    "colors = []\n",
    "for i in range(10) :\n",
    "    colors.append(create_rgb(i))"
   ]
  },
  {
   "cell_type": "code",
   "execution_count": 62,
   "metadata": {},
   "outputs": [
    {
     "data": {
      "text/plain": [
       "[(31.0, 119.0, 180.0),\n",
       " (255.0, 127.0, 14.0),\n",
       " (44.0, 160.0, 44.0),\n",
       " (214.0, 39.0, 40.0),\n",
       " (148.0, 103.0, 189.0),\n",
       " (140.0, 86.0, 75.0),\n",
       " (227.0, 119.0, 194.0),\n",
       " (127.0, 127.0, 127.0),\n",
       " (188.0, 189.0, 34.0),\n",
       " (23.0, 190.0, 207.0)]"
      ]
     },
     "execution_count": 62,
     "metadata": {},
     "output_type": "execute_result"
    }
   ],
   "source": [
    "colors"
   ]
  },
  {
   "cell_type": "code",
   "execution_count": 63,
   "metadata": {},
   "outputs": [],
   "source": [
    "######\n",
    "# GLOBAL VARIABLES\n",
    "\n",
    "n_markers = 10   # 0-9\n",
    "\n",
    "# COLOR CHOICE\n",
    "current_marker = 1\n",
    "\n",
    "# MARKERS UPDATED BY WATERSHED \n",
    "marks_updated = False"
   ]
  },
  {
   "cell_type": "code",
   "execution_count": 64,
   "metadata": {},
   "outputs": [],
   "source": [
    "# CALLBACK FUNCTION\n",
    "def mouse_callback(event,x,y,flags,param) :\n",
    "    global marks_updated\n",
    "    \n",
    "    if event == cv2.EVENT_LBUTTONDOWN :\n",
    "        # MARKERS PASSED TO WATERSHED \n",
    "        cv2.circle(marker_image,(x,y),10,(current_marker),-1)\n",
    "        \n",
    "        # USER SEES\n",
    "        cv2.circle(road_copy,(x,y),10,colors[current_marker],-1)\n",
    "        \n",
    "        marks_updated = True"
   ]
  },
  {
   "cell_type": "code",
   "execution_count": 65,
   "metadata": {},
   "outputs": [],
   "source": [
    "# WHILE TRUE\n",
    "cv2.namedWindow('Road Image')\n",
    "cv2.setMouseCallback('Road Image',mouse_callback)\n",
    "\n",
    "while True :\n",
    "    cv2.imshow('Watershed Segments',segments)\n",
    "    cv2.imshow('Road Image',road_copy)\n",
    "    \n",
    "    \n",
    "    # CLOSE WINDOWS\n",
    "    k = cv2.waitKey(1)\n",
    "    \n",
    "    if k == 27 :\n",
    "        break\n",
    "    \n",
    "    # CLEAR ALL COLORS WHEN USER PRESSES C KEY\n",
    "    elif k == ord('c') :\n",
    "        road_copy = road.copy()\n",
    "        marker_image = np.zeros(road.shape[:2],dtype=np.int32)\n",
    "        segments =  np.zeros(road.shape,dtype=np.unit8)\n",
    "    # UPDATE COLOR CHOICE\n",
    "    elif k > 0 and chr(k).isdigit() :\n",
    "        current_marker = int(chr(k))\n",
    "        \n",
    "    # UPDATE MARKINGS\n",
    "    if marks_updated :\n",
    "        marker_image_copy = marker_image.copy()\n",
    "        cv2.watershed(road,marker_image_copy)\n",
    "        \n",
    "        segments = np.zeros(road.shape,dtype=np.uint8)\n",
    "        \n",
    "        for color_ind in range(n_markers) :\n",
    "        # COLORING SEGMENTS , NUMPY CALL\n",
    "            segments[marker_image_copy==(color_ind)] = colors[color_ind]\n",
    "    \n",
    "cv2.destroyAllWindows()"
   ]
  },
  {
   "cell_type": "code",
   "execution_count": null,
   "metadata": {},
   "outputs": [],
   "source": []
  }
 ],
 "metadata": {
  "kernelspec": {
   "display_name": "Python 3",
   "language": "python",
   "name": "python3"
  },
  "language_info": {
   "codemirror_mode": {
    "name": "ipython",
    "version": 3
   },
   "file_extension": ".py",
   "mimetype": "text/x-python",
   "name": "python",
   "nbconvert_exporter": "python",
   "pygments_lexer": "ipython3",
   "version": "3.6.6"
  }
 },
 "nbformat": 4,
 "nbformat_minor": 2
}
