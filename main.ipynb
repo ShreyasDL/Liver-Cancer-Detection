{
 "cells": [
  {
   "cell_type": "code",
   "execution_count": 35,
   "metadata": {},
   "outputs": [],
   "source": [
    "import os\n",
    "%run Liver_extract.ipynb\n",
    "\n",
    "folder_path = 'DatasetsII'\n",
    "\n",
    "folder_dir = folder_path+'/in'\n",
    "images_path = os.listdir(folder_dir)\n",
    "\n",
    "for img in images_path :\n",
    "    solve(folder_path,img)"
   ]
  },
  {
   "cell_type": "code",
   "execution_count": null,
   "metadata": {},
   "outputs": [],
   "source": []
  }
 ],
 "metadata": {
  "kernelspec": {
   "display_name": "Python 3",
   "language": "python",
   "name": "python3"
  },
  "language_info": {
   "codemirror_mode": {
    "name": "ipython",
    "version": 3
   },
   "file_extension": ".py",
   "mimetype": "text/x-python",
   "name": "python",
   "nbconvert_exporter": "python",
   "pygments_lexer": "ipython3",
   "version": "3.6.6"
  }
 },
 "nbformat": 4,
 "nbformat_minor": 2
}
